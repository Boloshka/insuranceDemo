{
  "cells": [
    {
      "cell_type": "code",
      "source": [
        "pip install ydata-profiling\n"
      ],
      "metadata": {
        "id": "1TJRhiwzr4YM"
      },
      "id": "1TJRhiwzr4YM",
      "execution_count": null,
      "outputs": []
    },
    {
      "cell_type": "code",
      "source": [
        "pip install autoimpute"
      ],
      "metadata": {
        "id": "kn4C7_7BKXVt"
      },
      "id": "kn4C7_7BKXVt",
      "execution_count": null,
      "outputs": []
    },
    {
      "cell_type": "code",
      "source": [
        "pip install --upgrade xgboost"
      ],
      "metadata": {
        "colab": {
          "base_uri": "https://localhost:8080/"
        },
        "id": "3Vvx7_Y77Xmj",
        "executionInfo": {
          "status": "ok",
          "timestamp": 1746674763657,
          "user_tz": -600,
          "elapsed": 12762,
          "user": {
            "displayName": "",
            "userId": ""
          }
        },
        "outputId": "b6e8658c-dba2-440c-a31e-eab44c91a88d"
      },
      "id": "3Vvx7_Y77Xmj",
      "execution_count": null,
      "outputs": [
        {
          "output_type": "stream",
          "name": "stdout",
          "text": [
            "Requirement already satisfied: xgboost in /usr/local/lib/python3.10/dist-packages (2.1.3)\n",
            "Collecting xgboost\n",
            "  Downloading xgboost-3.0.0-py3-none-manylinux_2_28_x86_64.whl.metadata (2.1 kB)\n",
            "Requirement already satisfied: numpy in /usr/local/lib/python3.10/dist-packages (from xgboost) (1.26.4)\n",
            "Requirement already satisfied: nvidia-nccl-cu12 in /usr/local/lib/python3.10/dist-packages (from xgboost) (2.24.3)\n",
            "Requirement already satisfied: scipy in /usr/local/lib/python3.10/dist-packages (from xgboost) (1.13.1)\n",
            "Downloading xgboost-3.0.0-py3-none-manylinux_2_28_x86_64.whl (253.9 MB)\n",
            "\u001b[2K   \u001b[90m━━━━━━━━━━━━━━━━━━━━━━━━━━━━━━━━━━━━━━━━\u001b[0m \u001b[32m253.9/253.9 MB\u001b[0m \u001b[31m8.0 MB/s\u001b[0m eta \u001b[36m0:00:00\u001b[0m\n",
            "\u001b[?25hInstalling collected packages: xgboost\n",
            "  Attempting uninstall: xgboost\n",
            "    Found existing installation: xgboost 2.1.3\n",
            "    Uninstalling xgboost-2.1.3:\n",
            "      Successfully uninstalled xgboost-2.1.3\n",
            "Successfully installed xgboost-3.0.0\n"
          ]
        }
      ]
    },
    {
      "cell_type": "code",
      "source": [
        "import re\n",
        "import pandas as pd\n",
        "import numpy as np\n",
        "from sklearn.model_selection import train_test_split\n",
        "from google.cloud import bigquery\n",
        "\n",
        "# ---------------------------------------\n",
        "# Load data from BigQuery\n",
        "# ---------------------------------------\n",
        "project_id = \"ic-ai-solutions\"\n",
        "source_table = \"insurance_dataset.insurance_dataset\"\n",
        "\n",
        "bq_client = bigquery.Client(project=project_id)\n",
        "\n",
        "query = f\"\"\"\n",
        "    SELECT * FROM `{project_id}.{source_table}`\n",
        "\"\"\"\n",
        "\n",
        "df = bq_client.query(query).to_dataframe()\n",
        "\n",
        "df_clean = df.dropna(subset=[\"CLAIM3YEARS\"])\n",
        "\n",
        "print(df_clean.shape)\n",
        "print(df_clean['CLAIM3YEARS'].value_counts(dropna = False,normalize=True))"
      ],
      "metadata": {
        "id": "_aKT9GMasHqW",
        "executionInfo": {
          "status": "ok",
          "timestamp": 1746676703849,
          "user_tz": -600,
          "elapsed": 4528,
          "user": {
            "displayName": "",
            "userId": ""
          }
        },
        "colab": {
          "base_uri": "https://localhost:8080/"
        },
        "outputId": "3d5791d4-708a-489f-dcd0-caeda12a4180"
      },
      "id": "_aKT9GMasHqW",
      "execution_count": null,
      "outputs": [
        {
          "output_type": "stream",
          "name": "stdout",
          "text": [
            "(190039, 66)\n",
            "CLAIM3YEARS\n",
            "False    0.884492\n",
            "True     0.115508\n",
            "Name: proportion, dtype: Float64\n"
          ]
        }
      ]
    },
    {
      "cell_type": "code",
      "source": [
        "print(df.columns)"
      ],
      "metadata": {
        "colab": {
          "base_uri": "https://localhost:8080/"
        },
        "id": "8HOWPIzuuoWC",
        "executionInfo": {
          "status": "ok",
          "timestamp": 1746666254067,
          "user_tz": -600,
          "elapsed": 3,
          "user": {
            "displayName": "",
            "userId": ""
          }
        },
        "outputId": "6ec7348d-69d4-4cc6-a1b4-0fdfef80dede"
      },
      "id": "8HOWPIzuuoWC",
      "execution_count": null,
      "outputs": [
        {
          "output_type": "stream",
          "name": "stdout",
          "text": [
            "Index(['QUOTE_DATE', 'COVER_START', 'CLAIM3YEARS', 'P1_EMP_STATUS',\n",
            "       'P1_PT_EMP_STATUS', 'BUS_USE', 'CLERICAL', 'AD_BUILDINGS',\n",
            "       'RISK_RATED_AREA_B', 'SUM_INSURED_BUILDINGS', 'NCD_GRANTED_YEARS_B',\n",
            "       'AD_CONTENTS', 'RISK_RATED_AREA_C', 'SUM_INSURED_CONTENTS',\n",
            "       'NCD_GRANTED_YEARS_C', 'CONTENTS_COVER', 'BUILDINGS_COVER',\n",
            "       'SPEC_SUM_INSURED', 'SPEC_ITEM_PREM', 'UNSPEC_HRP_PREM', 'P1_DOB',\n",
            "       'P1_MAR_STATUS', 'P1_POLICY_REFUSED', 'P1_SEX', 'APPR_ALARM',\n",
            "       'APPR_LOCKS', 'BEDROOMS', 'ROOF_CONSTRUCTION', 'WALL_CONSTRUCTION',\n",
            "       'FLOODING', 'LISTED', 'MAX_DAYS_UNOCC', 'NEIGH_WATCH', 'OCC_STATUS',\n",
            "       'OWNERSHIP_TYPE', 'PAYING_GUESTS', 'PROP_TYPE', 'SAFE_INSTALLED',\n",
            "       'SEC_DISC_REQ', 'SUBSIDENCE', 'YEARBUILT', 'CAMPAIGN_DESC',\n",
            "       'PAYMENT_METHOD', 'PAYMENT_FREQUENCY', 'LEGAL_ADDON_PRE_REN',\n",
            "       'LEGAL_ADDON_POST_REN', 'HOME_EM_ADDON_PRE_REN',\n",
            "       'HOME_EM_ADDON_POST_REN', 'GARDEN_ADDON_PRE_REN',\n",
            "       'GARDEN_ADDON_POST_REN', 'KEYCARE_ADDON_PRE_REN',\n",
            "       'KEYCARE_ADDON_POST_REN', 'HP1_ADDON_PRE_REN', 'HP1_ADDON_POST_REN',\n",
            "       'HP2_ADDON_PRE_REN', 'HP2_ADDON_POST_REN', 'HP3_ADDON_PRE_REN',\n",
            "       'HP3_ADDON_POST_REN', 'MTA_FLAG', 'MTA_FAP', 'MTA_APRP', 'MTA_DATE',\n",
            "       'LAST_ANN_PREM_GROSS', 'POL_STATUS', 'i', 'Police'],\n",
            "      dtype='object')\n"
          ]
        }
      ]
    },
    {
      "cell_type": "code",
      "source": [
        "# Drop rows where COVER_START is missing\n",
        "df_clean = df_clean.dropna(subset=[\"COVER_START\"])\n",
        "\n",
        "# Convert COVER_START to datetime if it isn't already\n",
        "df_clean[\"COVER_START\"] = pd.to_datetime(df_clean[\"COVER_START\"], errors=\"coerce\")\n",
        "\n",
        "# Sort by COVER_START\n",
        "df_clean = df_clean.sort_values(by=\"COVER_START\")\n",
        "\n",
        "# Split the DataFrame\n",
        "df_subset = df_clean.head(100000)\n",
        "df_withold = df_clean.iloc[100000:]\n",
        "\n",
        "# Optional: reset index\n",
        "df_subset = df_subset.reset_index(drop=True)\n",
        "df_withold = df_withold.reset_index(drop=True)\n",
        "\n",
        "# Inspect result\n",
        "print(\"Subset shape:\", df_subset.shape)\n",
        "print(\"Withheld shape:\", df_withold.shape)\n",
        "print(df_subset.head(100))\n",
        "\n"
      ],
      "metadata": {
        "colab": {
          "base_uri": "https://localhost:8080/"
        },
        "id": "30wE7-JfMXPx",
        "executionInfo": {
          "status": "ok",
          "timestamp": 1746678053793,
          "user_tz": -600,
          "elapsed": 289,
          "user": {
            "displayName": "",
            "userId": ""
          }
        },
        "outputId": "88c140e3-a8cd-4965-81f3-b8ef02ffec23"
      },
      "id": "30wE7-JfMXPx",
      "execution_count": null,
      "outputs": [
        {
          "output_type": "stream",
          "name": "stdout",
          "text": [
            "Subset shape: (100000, 66)\n",
            "Withheld shape: (89021, 66)\n",
            "   QUOTE_DATE COVER_START  CLAIM3YEARS P1_EMP_STATUS P1_PT_EMP_STATUS  \\\n",
            "0         NaT  1992-11-05         True             R             None   \n",
            "1         NaT  1992-11-06        False             R             None   \n",
            "2         NaT  1992-11-09        False             R             None   \n",
            "3         NaT  1992-11-09        False             R             None   \n",
            "4         NaT  1992-11-09        False             R             None   \n",
            "..        ...         ...          ...           ...              ...   \n",
            "95        NaT  1993-11-16         True             R             None   \n",
            "96        NaT  1993-11-17         True             R             None   \n",
            "97        NaT  1993-11-17        False             R             None   \n",
            "98        NaT  1993-11-18         True             R             None   \n",
            "99        NaT  1993-11-18         True             R             None   \n",
            "\n",
            "    BUS_USE  CLERICAL  AD_BUILDINGS  RISK_RATED_AREA_B  SUM_INSURED_BUILDINGS  \\\n",
            "0     False      <NA>         False               <NA>                      0   \n",
            "1     False      <NA>         False               <NA>                      0   \n",
            "2     False      <NA>          True                 19                1000000   \n",
            "3     False      <NA>          True                 13                1000000   \n",
            "4     False      <NA>          True                  8                1000000   \n",
            "..      ...       ...           ...                ...                    ...   \n",
            "95    False      <NA>         False               <NA>                      0   \n",
            "96    False      <NA>          True                  3                1000000   \n",
            "97    False      <NA>          True                 24                1000000   \n",
            "98    False      <NA>          True                  5                1000000   \n",
            "99    False      <NA>          True                 17                1000000   \n",
            "\n",
            "    ...  HP3_ADDON_PRE_REN  HP3_ADDON_POST_REN  MTA_FLAG  MTA_FAP  MTA_APRP  \\\n",
            "0   ...              False               False      True    95.27      0.00   \n",
            "1   ...              False               False     False      NaN       NaN   \n",
            "2   ...              False               False      True   199.86      0.00   \n",
            "3   ...              False               False      True   366.32    366.32   \n",
            "4   ...              False               False      True   271.27     -7.17   \n",
            "..  ...                ...                 ...       ...      ...       ...   \n",
            "95  ...              False               False      True    57.92      0.00   \n",
            "96  ...              False               False      True   239.19    239.19   \n",
            "97  ...              False               False     False      NaN       NaN   \n",
            "98  ...              False               False     False      NaN       NaN   \n",
            "99  ...              False               False     False      NaN       NaN   \n",
            "\n",
            "      MTA_DATE  LAST_ANN_PREM_GROSS  POL_STATUS       i   Police  \n",
            "0          NaT                95.27        Live  188664  P188664  \n",
            "1          NaT                51.45        Live  232822  P232822  \n",
            "2          NaT               199.86        Live  140948  P140948  \n",
            "3   2009-10-17               366.32        Live    6577  P006577  \n",
            "4          NaT               271.27        Live  142510  P142510  \n",
            "..         ...                  ...         ...     ...      ...  \n",
            "95         NaT                57.92        Live  240558  P240558  \n",
            "96  2009-12-11               239.19      Lapsed  163168  P163168  \n",
            "97         NaT               242.39      Lapsed  155405  P155405  \n",
            "98         NaT               221.33        Live   70511  P070511  \n",
            "99         NaT               301.88        Live    4018  P004018  \n",
            "\n",
            "[100 rows x 66 columns]\n"
          ]
        }
      ]
    },
    {
      "cell_type": "code",
      "source": [
        "essential_features = [\n",
        "    # Policy details\n",
        "    \"QUOTE_DATE\",\n",
        "    \"COVER_START\",\n",
        "    \"POL_STATUS\",\n",
        "    \"Police\",\n",
        "\n",
        "    # Client demographics\n",
        "    \"P1_DOB\",\n",
        "    \"P1_SEX\",\n",
        "    \"P1_MAR_STATUS\",\n",
        "    \"P1_EMP_STATUS\",\n",
        "\n",
        "    # Property characteristics\n",
        "    \"PROP_TYPE\",\n",
        "    \"BEDROOMS\",\n",
        "    \"YEARBUILT\",\n",
        "    \"ROOF_CONSTRUCTION\",\n",
        "    \"WALL_CONSTRUCTION\",\n",
        "\n",
        "    # Coverage and claims history\n",
        "    \"CLAIM3YEARS\",\n",
        "    \"SUM_INSURED_BUILDINGS\",\n",
        "    \"SUM_INSURED_CONTENTS\",\n",
        "    \"NCD_GRANTED_YEARS_C\",\n",
        "\n",
        "    # Security features\n",
        "    \"APPR_ALARM\",\n",
        "    \"APPR_LOCKS\",\n",
        "    \"SAFE_INSTALLED\",\n",
        "    \"NEIGH_WATCH\"\n",
        "]\n",
        "\n",
        "df_select = df_subset[essential_features]\n",
        "print(df_select['CLAIM3YEARS'].value_counts(dropna = False,normalize=True))\n",
        "\n",
        "df_select = df_select.apply(lambda col: col.astype('category') if col.dtype == 'object' else col)\n",
        "for col in df_select.select_dtypes(include='category').columns:\n",
        "    df_select[col] = df_select[col].cat.codes\n",
        "\n",
        "# Ensure birth date is datetime\n",
        "df_select['P1_DOB'] = pd.to_datetime(df_select['P1_DOB'], errors='coerce')\n",
        "# today = pd.to_datetime(\"today\")\n",
        "today = pd.to_datetime(\"2013-01-01\")\n",
        "print(\"Today: \",today)\n",
        "# Basic year difference\n",
        "df_select['age'] = today.year - df_select['P1_DOB'].dt.year\n",
        "\n",
        "# Subtract 1 if birthday hasn't occurred yet this year\n",
        "has_had_birthday = (\n",
        "    (df_select['P1_DOB'].dt.month < today.month) |\n",
        "    ((df_select['P1_DOB'].dt.month == today.month) & (df_select['P1_DOB'].dt.day <= today.day))\n",
        ")\n",
        "\n",
        "df_select['age'] -= ~has_had_birthday\n",
        "print(df_select['CLAIM3YEARS'].value_counts(dropna = False,normalize=True))\n",
        "\n",
        "df_select_no_date = df_select.drop([\"QUOTE_DATE\",\"COVER_START\",\"P1_DOB\",\"Police\"],axis = 1)\n",
        "print(df_select_no_date['CLAIM3YEARS'].value_counts(dropna = False,normalize=True))\n",
        "\n",
        "bool_cols = df_select_no_date.select_dtypes(include='boolean').columns\n",
        "df_select_no_date[bool_cols] = df_select_no_date[bool_cols].astype('Int8')\n",
        "print(df_select_no_date['CLAIM3YEARS'].value_counts(dropna = False,normalize=True))\n",
        "\n",
        "for col in df_select_no_date.columns:\n",
        "    if pd.api.types.is_integer_dtype(df_select_no_date[col]):\n",
        "        df_select_no_date[col] = df_select_no_date[col].astype('float64')\n",
        "print(df_select_no_date['CLAIM3YEARS'].value_counts(dropna = False,normalize=True))\n",
        "\n",
        "# Drop constant columns\n",
        "df_select_no_date = df_select_no_date.loc[:, df_select_no_date.nunique() > 1]\n",
        "# print(df_select_no_date.head(10))\n",
        "print(df_select_no_date['CLAIM3YEARS'].value_counts(dropna = False,normalize=True))"
      ],
      "metadata": {
        "id": "XrWKQ2XsMcz_",
        "colab": {
          "base_uri": "https://localhost:8080/"
        },
        "executionInfo": {
          "status": "ok",
          "timestamp": 1746677212723,
          "user_tz": -600,
          "elapsed": 1149,
          "user": {
            "displayName": "",
            "userId": ""
          }
        },
        "outputId": "330bded2-0e31-44eb-e51e-033b097c88a7"
      },
      "id": "XrWKQ2XsMcz_",
      "execution_count": null,
      "outputs": [
        {
          "output_type": "stream",
          "name": "stdout",
          "text": [
            "CLAIM3YEARS\n",
            "False    0.8652\n",
            "True     0.1348\n",
            "Name: proportion, dtype: Float64\n",
            "Today:  2013-01-01 00:00:00\n",
            "CLAIM3YEARS\n",
            "False    0.8652\n",
            "True     0.1348\n",
            "Name: proportion, dtype: Float64\n",
            "CLAIM3YEARS\n",
            "False    0.8652\n",
            "True     0.1348\n",
            "Name: proportion, dtype: Float64\n",
            "CLAIM3YEARS\n",
            "0    0.8652\n",
            "1    0.1348\n",
            "Name: proportion, dtype: Float64\n",
            "CLAIM3YEARS\n",
            "0.0    0.8652\n",
            "1.0    0.1348\n",
            "Name: proportion, dtype: float64\n",
            "CLAIM3YEARS\n",
            "0.0    0.8652\n",
            "1.0    0.1348\n",
            "Name: proportion, dtype: float64\n"
          ]
        }
      ]
    },
    {
      "cell_type": "code",
      "source": [],
      "metadata": {
        "id": "mBUhjMCoIK44"
      },
      "id": "mBUhjMCoIK44",
      "execution_count": null,
      "outputs": []
    },
    {
      "cell_type": "code",
      "source": [
        "essential_features = [\n",
        "    # Policy details\n",
        "    \"QUOTE_DATE\",\n",
        "    \"COVER_START\",\n",
        "    \"POL_STATUS\",\n",
        "    \"Police\",\n",
        "\n",
        "    # Client demographics\n",
        "    \"P1_DOB\",\n",
        "    \"P1_SEX\",\n",
        "    \"P1_MAR_STATUS\",\n",
        "    \"P1_EMP_STATUS\",\n",
        "\n",
        "    # Property characteristics\n",
        "    \"PROP_TYPE\",\n",
        "    \"BEDROOMS\",\n",
        "    \"YEARBUILT\",\n",
        "    \"ROOF_CONSTRUCTION\",\n",
        "    \"WALL_CONSTRUCTION\",\n",
        "\n",
        "    # Coverage and claims history\n",
        "    \"CLAIM3YEARS\",\n",
        "    \"SUM_INSURED_BUILDINGS\",\n",
        "    \"SUM_INSURED_CONTENTS\",\n",
        "    \"NCD_GRANTED_YEARS_C\",\n",
        "\n",
        "    # Security features\n",
        "    \"APPR_ALARM\",\n",
        "    \"APPR_LOCKS\",\n",
        "    \"SAFE_INSTALLED\",\n",
        "    \"NEIGH_WATCH\"\n",
        "]\n",
        "\n",
        "df_select = df_withold[essential_features]\n",
        "print(df_select['CLAIM3YEARS'].value_counts(dropna = False,normalize=True))\n",
        "\n",
        "df_select = df_select.apply(lambda col: col.astype('category') if col.dtype == 'object' else col)\n",
        "for col in df_select.select_dtypes(include='category').columns:\n",
        "    df_select[col] = df_select[col].cat.codes\n",
        "\n",
        "# Ensure birth date is datetime\n",
        "df_select['P1_DOB'] = pd.to_datetime(df_select['P1_DOB'], errors='coerce')\n",
        "# today = pd.to_datetime(\"today\")\n",
        "today = pd.to_datetime(\"2013-01-01\")\n",
        "print(\"Today: \",today)\n",
        "# Basic year difference\n",
        "df_select['age'] = today.year - df_select['P1_DOB'].dt.year\n",
        "\n",
        "# Subtract 1 if birthday hasn't occurred yet this year\n",
        "has_had_birthday = (\n",
        "    (df_select['P1_DOB'].dt.month < today.month) |\n",
        "    ((df_select['P1_DOB'].dt.month == today.month) & (df_select['P1_DOB'].dt.day <= today.day))\n",
        ")\n",
        "\n",
        "df_select['age'] -= ~has_had_birthday\n",
        "print(df_select['CLAIM3YEARS'].value_counts(dropna = False,normalize=True))\n",
        "\n",
        "df_select_no_date = df_select.drop([\"QUOTE_DATE\",\"COVER_START\",\"P1_DOB\",\"Police\"],axis = 1)\n",
        "print(df_select_no_date['CLAIM3YEARS'].value_counts(dropna = False,normalize=True))\n",
        "\n",
        "bool_cols = df_select_no_date.select_dtypes(include='boolean').columns\n",
        "df_select_no_date[bool_cols] = df_select_no_date[bool_cols].astype('Int8')\n",
        "print(df_select_no_date['CLAIM3YEARS'].value_counts(dropna = False,normalize=True))\n",
        "\n",
        "for col in df_select_no_date.columns:\n",
        "    if pd.api.types.is_integer_dtype(df_select_no_date[col]):\n",
        "        df_select_no_date[col] = df_select_no_date[col].astype('float64')\n",
        "print(df_select_no_date['CLAIM3YEARS'].value_counts(dropna = False,normalize=True))\n",
        "\n",
        "# Drop constant columns\n",
        "df_select_no_date = df_select_no_date.loc[:, df_select_no_date.nunique() > 1]\n",
        "# print(df_select_no_date.head(10))\n",
        "print(df_select_no_date['CLAIM3YEARS'].value_counts(dropna = False,normalize=True))"
      ],
      "metadata": {
        "colab": {
          "base_uri": "https://localhost:8080/"
        },
        "executionInfo": {
          "status": "ok",
          "timestamp": 1746678194360,
          "user_tz": -600,
          "elapsed": 1069,
          "user": {
            "displayName": "",
            "userId": ""
          }
        },
        "outputId": "d7f87c12-ea03-48d9-e727-899b437b5b5e",
        "id": "LQynN8V4IOhq"
      },
      "execution_count": null,
      "outputs": [
        {
          "output_type": "stream",
          "name": "stdout",
          "text": [
            "CLAIM3YEARS\n",
            "False    0.906112\n",
            "True     0.093888\n",
            "Name: proportion, dtype: Float64\n",
            "Today:  2013-01-01 00:00:00\n",
            "CLAIM3YEARS\n",
            "False    0.906112\n",
            "True     0.093888\n",
            "Name: proportion, dtype: Float64\n",
            "CLAIM3YEARS\n",
            "False    0.906112\n",
            "True     0.093888\n",
            "Name: proportion, dtype: Float64\n",
            "CLAIM3YEARS\n",
            "0    0.906112\n",
            "1    0.093888\n",
            "Name: proportion, dtype: Float64\n",
            "CLAIM3YEARS\n",
            "0.0    0.906112\n",
            "1.0    0.093888\n",
            "Name: proportion, dtype: float64\n",
            "CLAIM3YEARS\n",
            "0.0    0.906112\n",
            "1.0    0.093888\n",
            "Name: proportion, dtype: float64\n"
          ]
        }
      ],
      "id": "LQynN8V4IOhq"
    },
    {
      "cell_type": "code",
      "source": [
        "print(df_select_no_date.columns)"
      ],
      "metadata": {
        "colab": {
          "base_uri": "https://localhost:8080/"
        },
        "id": "vA_kJEUo6m6C",
        "executionInfo": {
          "status": "ok",
          "timestamp": 1746674568737,
          "user_tz": -600,
          "elapsed": 306,
          "user": {
            "displayName": "",
            "userId": ""
          }
        },
        "outputId": "abf02efa-ff2b-43da-927d-400050fbd50c"
      },
      "id": "vA_kJEUo6m6C",
      "execution_count": null,
      "outputs": [
        {
          "output_type": "stream",
          "name": "stdout",
          "text": [
            "Index(['POL_STATUS', 'P1_SEX', 'P1_MAR_STATUS', 'P1_EMP_STATUS', 'PROP_TYPE',\n",
            "       'BEDROOMS', 'YEARBUILT', 'ROOF_CONSTRUCTION', 'WALL_CONSTRUCTION',\n",
            "       'CLAIM3YEARS', 'SUM_INSURED_BUILDINGS', 'SUM_INSURED_CONTENTS',\n",
            "       'NCD_GRANTED_YEARS_C', 'APPR_ALARM', 'APPR_LOCKS', 'SAFE_INSTALLED',\n",
            "       'NEIGH_WATCH', 'age'],\n",
            "      dtype='object')\n"
          ]
        }
      ]
    },
    {
      "cell_type": "markdown",
      "source": [
        "# Split Data"
      ],
      "metadata": {
        "id": "B-8qYdZgsnD7"
      },
      "id": "B-8qYdZgsnD7"
    },
    {
      "cell_type": "code",
      "source": [
        "from sklearn.model_selection import train_test_split\n",
        "\n",
        "features = [col for col in df_select_no_date.columns if col not in ['CLAIM3YEARS']]\n",
        "X = df_select_no_date[features]\n",
        "y = df_select_no_date['CLAIM3YEARS'].astype(int)\n",
        "\n",
        "X_train, X_test, y_train, y_test = train_test_split(X, y, stratify=y, test_size=0.2, random_state=42)\n",
        "X_train_enc = pd.get_dummies(X_train)\n",
        "X_test_enc = pd.get_dummies(X_test)\n",
        "\n",
        "# Align columns in case train/test have mismatched categories\n",
        "X_train_enc, X_test_enc = X_train_enc.align(X_test_enc, join='left', axis=1, fill_value=0)\n"
      ],
      "metadata": {
        "id": "WENG9MkioBzM"
      },
      "id": "WENG9MkioBzM",
      "execution_count": null,
      "outputs": []
    },
    {
      "cell_type": "code",
      "source": [
        "from xgboost import XGBClassifier\n",
        "\n",
        "model = XGBClassifier(\n",
        "    n_estimators=100,\n",
        "    learning_rate=0.1,\n",
        "    eval_metric='logloss',\n",
        "    random_state=42\n",
        ")\n",
        "\n",
        "model.fit(X_train_enc, y_train)\n",
        "\n",
        "# Avoid: model\n",
        "print(\"Model trained successfully.\")\n"
      ],
      "metadata": {
        "colab": {
          "base_uri": "https://localhost:8080/"
        },
        "id": "AHlZjL_Vt4bB",
        "executionInfo": {
          "status": "ok",
          "timestamp": 1746677228612,
          "user_tz": -600,
          "elapsed": 565,
          "user": {
            "displayName": "",
            "userId": ""
          }
        },
        "outputId": "60e4c565-75c0-4df8-fc03-bdea99769c19"
      },
      "id": "AHlZjL_Vt4bB",
      "execution_count": null,
      "outputs": [
        {
          "output_type": "stream",
          "name": "stdout",
          "text": [
            "Model trained successfully.\n"
          ]
        }
      ]
    },
    {
      "cell_type": "code",
      "source": [
        "import matplotlib.pyplot as plt\n",
        "from sklearn.metrics import precision_recall_curve, average_precision_score\n",
        "\n",
        "# Predict probabilities instead of labels\n",
        "y_scores = model.predict_proba(X_test_enc)[:, 1]  # probability for class 1 (claim)\n",
        "\n",
        "# Compute precision-recall pairs\n",
        "precision, recall, thresholds = precision_recall_curve(y_test, y_scores)\n",
        "\n",
        "# Compute average precision (area under PR curve)\n",
        "avg_precision = average_precision_score(y_test, y_scores)\n",
        "\n",
        "# Plot\n",
        "plt.figure(figsize=(8, 6))\n",
        "plt.plot(recall, precision, label=f\"PR curve (AP = {avg_precision:.3f})\")\n",
        "plt.xlabel(\"Recall\")\n",
        "plt.ylabel(\"Precision\")\n",
        "plt.title(\"Precision-Recall Curve\")\n",
        "plt.legend()\n",
        "plt.grid(True)\n",
        "plt.show()\n"
      ],
      "metadata": {
        "colab": {
          "base_uri": "https://localhost:8080/",
          "height": 564
        },
        "id": "4pdll2XHuNTi",
        "executionInfo": {
          "status": "ok",
          "timestamp": 1746677232110,
          "user_tz": -600,
          "elapsed": 289,
          "user": {
            "displayName": "",
            "userId": ""
          }
        },
        "outputId": "b01a088c-f889-4101-f1dc-261375a8c27d"
      },
      "id": "4pdll2XHuNTi",
      "execution_count": null,
      "outputs": [
        {
          "output_type": "display_data",
          "data": {
            "text/plain": [
              "<Figure size 800x600 with 1 Axes>"
            ],
            "image/png": "[encoded data removed]"
          },
          "metadata": {}
        }
      ]
    },
    {
      "cell_type": "code",
      "source": [
        "from sklearn.metrics import classification_report, confusion_matrix\n",
        "\n",
        "y_pred = model.predict(X_test_enc)\n",
        "\n",
        "print(\"Confusion Matrix:\\n\", confusion_matrix(y_test, y_pred))\n",
        "print(\"\\nClassification Report:\\n\", classification_report(y_test, y_pred))\n"
      ],
      "metadata": {
        "colab": {
          "base_uri": "https://localhost:8080/"
        },
        "id": "ZKcFZodPGJPz",
        "executionInfo": {
          "status": "ok",
          "timestamp": 1746677574285,
          "user_tz": -600,
          "elapsed": 371,
          "user": {
            "displayName": "",
            "userId": ""
          }
        },
        "outputId": "a8154339-83ed-4768-e4df-d749fa7ebb8a"
      },
      "id": "ZKcFZodPGJPz",
      "execution_count": null,
      "outputs": [
        {
          "output_type": "stream",
          "name": "stdout",
          "text": [
            "Confusion Matrix:\n",
            " [[17147   157]\n",
            " [  432  2264]]\n",
            "\n",
            "Classification Report:\n",
            "               precision    recall  f1-score   support\n",
            "\n",
            "           0       0.98      0.99      0.98     17304\n",
            "           1       0.94      0.84      0.88      2696\n",
            "\n",
            "    accuracy                           0.97     20000\n",
            "   macro avg       0.96      0.92      0.93     20000\n",
            "weighted avg       0.97      0.97      0.97     20000\n",
            "\n"
          ]
        }
      ]
    },
    {
      "cell_type": "code",
      "source": [
        "# Reuse the same feature list used in training\n",
        "features = [col for col in df.columns if col not in ['CLAIM3YEARS', 'QUOTE_DATE', 'COVER_START', 'P1_DOB', 'Police']]\n",
        "X_withold = df_withold[features]\n",
        "y_withold = df_withold['CLAIM3YEARS'].astype(int)  # assumed already imputed\n",
        "\n",
        "# Encode same as training\n",
        "X_withold_enc = pd.get_dummies(X_withold)\n",
        "\n",
        "# Align columns with training features\n",
        "X_withold_enc = X_withold_enc.reindex(columns=X_train_enc.columns, fill_value=0)\n",
        "y_scores = model.predict_proba(X_withold_enc)[:, 1]  # probability of class 1\n"
      ],
      "metadata": {
        "id": "Ki3XoO-6Iwz1"
      },
      "id": "Ki3XoO-6Iwz1",
      "execution_count": null,
      "outputs": []
    },
    {
      "cell_type": "code",
      "source": [
        "from sklearn.metrics import precision_recall_curve, average_precision_score\n",
        "import matplotlib.pyplot as plt\n",
        "\n",
        "precision, recall, thresholds = precision_recall_curve(y_withold, y_scores)\n",
        "avg_precision = average_precision_score(y_withold, y_scores)\n",
        "\n",
        "plt.figure(figsize=(8, 6))\n",
        "plt.plot(recall, precision, label=f\"PR curve (AP = {avg_precision:.3f})\")\n",
        "plt.xlabel(\"Recall\")\n",
        "plt.ylabel(\"Precision\")\n",
        "plt.title(\"Precision-Recall Curve on Withheld Set\")\n",
        "plt.grid(True)\n",
        "plt.legend()\n",
        "plt.show()\n"
      ],
      "metadata": {
        "colab": {
          "base_uri": "https://localhost:8080/",
          "height": 564
        },
        "id": "5G7V2DKBJMjK",
        "executionInfo": {
          "status": "ok",
          "timestamp": 1746678381928,
          "user_tz": -600,
          "elapsed": 319,
          "user": {
            "displayName": "",
            "userId": ""
          }
        },
        "outputId": "d70b709e-5097-4389-e396-8e81f867c0d5"
      },
      "id": "5G7V2DKBJMjK",
      "execution_count": null,
      "outputs": [
        {
          "output_type": "display_data",
          "data": {
            "text/plain": [
              "<Figure size 800x600 with 1 Axes>"
            ],
            "image/png": "[encoded data removed]"
          },
          "metadata": {}
        }
      ]
    },
    {
      "cell_type": "code",
      "source": [
        "import re\n",
        "import pandas as pd\n",
        "from ydata_profiling import ProfileReport\n",
        "# Create the profile\n",
        "profile = ProfileReport(df_select_no_date, title=\"Feature Analysis For insurance\", explorative=True)\n",
        "\n",
        "# Save to HTML\n",
        "profile.to_file(\"feature_analysis_insure_100k_sam.html\")\n",
        "from google.colab import files\n",
        "files.download(\"feature_analysis_insure_100k_sam.html\")"
      ],
      "metadata": {
        "colab": {
          "base_uri": "https://localhost:8080/",
          "height": 267,
          "referenced_widgets": [
            "494685c0367541b089f888aa5a0f816e",
            "f2d99acdae2b401195ab4d3384eccd77",
            "a3636deb08ba45a083d4ecd538285bb2",
            "b66c5a83059b43c39da2b1fc28f9d560",
            "45e74eaa6a984f199d9fd9d5eac34fb0",
            "4f4ea45703e24208961873bb06571add",
            "6f5b9f4c1e4d403791adcdad8cdaaaf0",
            "ccbcc16e38484317b2e797490a9945bc",
            "4a80e8dd29e2452b92f81b01651af148",
            "88498bcee2ea4c99bbd698ce6c3a9e3e",
            "4ef432f330be4bf1b23fbf9df2e4e8e9",
            "7c838f00c99d4126a9a8c439894d559f",
            "ed3cf2544ec44714861eebf835795872",
            "06db10f8a3ed45c682542834623144eb",
            "5150416636cf49d2b745fadd9f857b9f",
            "6e2105120a444d12bd60dce332afb47c",
            "d055df0a701f4d148e5b7e58040e8dae",
            "86dc9b336e8445b79783e26453601442",
            "88d49b2bce1744778436b89a83751be7",
            "eaeb09ab46cf45f5a4c03dc675c2e6bd",
            "e7e59f36a49c43f9a84f0abc921b00b2",
            "c81116015f664206ba45c1df2d716e3b",
            "4507930bdbd5428b9080cae4595ee331",
            "2ea789a77c66451b8460b770d990c975",
            "c25ebe7687d24e91accf9fab6045c1b9",
            "f43c8b2b1eee4e00abb1c87bdf8c8435",
            "a986d1dc610540099d9f5f9f1f53964e",
            "a19b6dc07a37461db8636a41eb3cb69a",
            "e9be91b116624f97a56aea4708486747",
            "e4dbdfbf992345448b700854d8e18086",
            "e29d281c5bed4a6eb209f2449eb8dc81",
            "81b312e6c2424e3485cd88dbfdac2552",
            "109db335a5974ac48b349fd2bb401b29",
            "a10d29e851764411bdd6b0840290d6aa",
            "d33da51c4049422a91b9b002fca2d35d",
            "e806c6ad5fc4480ea1c52e1ff764981e",
            "7e339f9852c34467b5854f496f966b7f",
            "1f74fb1aa0804ede9dce2820cbb8c1a3",
            "907aa0d3b9f445a29bd686e491a76619",
            "93180c33ffa74ad39040fdfbb76f6a53",
            "f7001d32f7274b1b99653f416022d9cd",
            "4e4b18679736477d96be2aee10c0c2b9",
            "82cacd1dd9694c9080fdc37662a6a0c7",
            "ae274989ef2143b49a03bcd6f0a45f5b"
          ]
        },
        "id": "5wt6fhLDtMWd",
        "executionInfo": {
          "status": "ok",
          "timestamp": 1746671095208,
          "user_tz": -600,
          "elapsed": 38309,
          "user": {
            "displayName": "",
            "userId": ""
          }
        },
        "outputId": "536de2b1-4673-4716-d222-4f804645eaa3"
      },
      "id": "5wt6fhLDtMWd",
      "execution_count": null,
      "outputs": [
        {
          "output_type": "display_data",
          "data": {
            "text/plain": [
              "Summarize dataset:   0%|          | 0/5 [00:00<?, ?it/s]"
            ],
            "application/vnd.jupyter.widget-view+json": {
              "version_major": 2,
              "version_minor": 0,
              "model_id": "494685c0367541b089f888aa5a0f816e"
            }
          },
          "metadata": {}
        },
        {
          "output_type": "stream",
          "name": "stderr",
          "text": [
            "\n",
            "  0%|          | 0/18 [00:00<?, ?it/s]\u001b[A\n",
            " 28%|██▊       | 5/18 [00:00<00:00, 46.50it/s]\u001b[A\n",
            " 56%|█████▌    | 10/18 [00:00<00:00, 17.39it/s]\u001b[A\n",
            " 72%|███████▏  | 13/18 [00:01<00:00, 10.84it/s]\u001b[A\n",
            " 83%|████████▎ | 15/18 [00:01<00:00, 10.43it/s]\u001b[A\n",
            "100%|██████████| 18/18 [00:01<00:00, 10.77it/s]\n"
          ]
        },
        {
          "output_type": "display_data",
          "data": {
            "text/plain": [
              "Generate report structure:   0%|          | 0/1 [00:00<?, ?it/s]"
            ],
            "application/vnd.jupyter.widget-view+json": {
              "version_major": 2,
              "version_minor": 0,
              "model_id": "7c838f00c99d4126a9a8c439894d559f"
            }
          },
          "metadata": {}
        },
        {
          "output_type": "display_data",
          "data": {
            "text/plain": [
              "Render HTML:   0%|          | 0/1 [00:00<?, ?it/s]"
            ],
            "application/vnd.jupyter.widget-view+json": {
              "version_major": 2,
              "version_minor": 0,
              "model_id": "4507930bdbd5428b9080cae4595ee331"
            }
          },
          "metadata": {}
        },
        {
          "output_type": "display_data",
          "data": {
            "text/plain": [
              "Export report to file:   0%|          | 0/1 [00:00<?, ?it/s]"
            ],
            "application/vnd.jupyter.widget-view+json": {
              "version_major": 2,
              "version_minor": 0,
              "model_id": "a10d29e851764411bdd6b0840290d6aa"
            }
          },
          "metadata": {}
        },
        {
          "output_type": "display_data",
          "data": {
            "text/plain": [
              "<IPython.core.display.Javascript object>"
            ],
            "application/javascript": [
              "\n",
              "    async function download(id, filename, size) {\n",
              "      if (!google.colab.kernel.accessAllowed) {\n",
              "        return;\n",
              "      }\n",
              "      const div = document.createElement('div');\n",
              "      const label = document.createElement('label');\n",
              "      label.textContent = `Downloading \"${filename}\": `;\n",
              "      div.appendChild(label);\n",
              "      const progress = document.createElement('progress');\n",
              "      progress.max = size;\n",
              "      div.appendChild(progress);\n",
              "      document.body.appendChild(div);\n",
              "\n",
              "      const buffers = [];\n",
              "      let downloaded = 0;\n",
              "\n",
              "      const channel = await google.colab.kernel.comms.open(id);\n",
              "      // Send a message to notify the kernel that we're ready.\n",
              "      channel.send({})\n",
              "\n",
              "      for await (const message of channel.messages) {\n",
              "        // Send a message to notify the kernel that we're ready.\n",
              "        channel.send({})\n",
              "        if (message.buffers) {\n",
              "          for (const buffer of message.buffers) {\n",
              "            buffers.push(buffer);\n",
              "            downloaded += buffer.byteLength;\n",
              "            progress.value = downloaded;\n",
              "          }\n",
              "        }\n",
              "      }\n",
              "      const blob = new Blob(buffers, {type: 'application/binary'});\n",
              "      const a = document.createElement('a');\n",
              "      a.href = window.URL.createObjectURL(blob);\n",
              "      a.download = filename;\n",
              "      div.appendChild(a);\n",
              "      a.click();\n",
              "      div.remove();\n",
              "    }\n",
              "  "
            ]
          },
          "metadata": {}
        },
        {
          "output_type": "display_data",
          "data": {
            "text/plain": [
              "<IPython.core.display.Javascript object>"
            ],
            "application/javascript": [
              "download(\"download_96e2d836-5c6a-4756-a8a7-c15cdc37cbb8\", \"feature_analysis_insure_100k_sam.html\", 6697299)"
            ]
          },
          "metadata": {}
        }
      ]
    },
    {
      "cell_type": "code",
      "source": [
        "from google.colab import files\n",
        "files.download(\"feature_analysis_insure.html\")"
      ],
      "metadata": {
        "id": "2XQqFJU0vq5w",
        "colab": {
          "base_uri": "https://localhost:8080/",
          "height": 17
        },
        "executionInfo": {
          "status": "ok",
          "timestamp": 1746403818983,
          "user_tz": -600,
          "elapsed": 9,
          "user": {
            "displayName": "",
            "userId": ""
          }
        },
        "outputId": "53f6e2b0-3724-45e9-b160-c370dfe77e47"
      },
      "id": "2XQqFJU0vq5w",
      "execution_count": null,
      "outputs": [
        {
          "output_type": "display_data",
          "data": {
            "text/plain": [
              "<IPython.core.display.Javascript object>"
            ],
            "application/javascript": [
              "\n",
              "    async function download(id, filename, size) {\n",
              "      if (!google.colab.kernel.accessAllowed) {\n",
              "        return;\n",
              "      }\n",
              "      const div = document.createElement('div');\n",
              "      const label = document.createElement('label');\n",
              "      label.textContent = `Downloading \"${filename}\": `;\n",
              "      div.appendChild(label);\n",
              "      const progress = document.createElement('progress');\n",
              "      progress.max = size;\n",
              "      div.appendChild(progress);\n",
              "      document.body.appendChild(div);\n",
              "\n",
              "      const buffers = [];\n",
              "      let downloaded = 0;\n",
              "\n",
              "      const channel = await google.colab.kernel.comms.open(id);\n",
              "      // Send a message to notify the kernel that we're ready.\n",
              "      channel.send({})\n",
              "\n",
              "      for await (const message of channel.messages) {\n",
              "        // Send a message to notify the kernel that we're ready.\n",
              "        channel.send({})\n",
              "        if (message.buffers) {\n",
              "          for (const buffer of message.buffers) {\n",
              "            buffers.push(buffer);\n",
              "            downloaded += buffer.byteLength;\n",
              "            progress.value = downloaded;\n",
              "          }\n",
              "        }\n",
              "      }\n",
              "      const blob = new Blob(buffers, {type: 'application/binary'});\n",
              "      const a = document.createElement('a');\n",
              "      a.href = window.URL.createObjectURL(blob);\n",
              "      a.download = filename;\n",
              "      div.appendChild(a);\n",
              "      a.click();\n",
              "      div.remove();\n",
              "    }\n",
              "  "
            ]
          },
          "metadata": {}
        },
        {
          "output_type": "display_data",
          "data": {
            "text/plain": [
              "<IPython.core.display.Javascript object>"
            ],
            "application/javascript": [
              "download(\"download_797f7f5c-ced4-4b0a-acf2-05c776abbe1f\", \"feature_analysis_insure.html\", 25497581)"
            ]
          },
          "metadata": {}
        }
      ]
    },
    {
      "cell_type": "code",
      "source": [
        "import joblib\n",
        "\n",
        "joblib.dump(model, \"xgb_model.pkl\")\n"
      ],
      "metadata": {
        "id": "grgBBfwonKOH",
        "colab": {
          "base_uri": "https://localhost:8080/"
        },
        "executionInfo": {
          "status": "ok",
          "timestamp": 1746679628557,
          "user_tz": -600,
          "elapsed": 288,
          "user": {
            "displayName": "",
            "userId": ""
          }
        },
        "outputId": "94568704-bdc5-4eb4-f25e-26ea7a6b0b03"
      },
      "id": "grgBBfwonKOH",
      "execution_count": null,
      "outputs": [
        {
          "output_type": "execute_result",
          "data": {
            "text/plain": [
              "['xgb_model.pkl']"
            ]
          },
          "metadata": {},
          "execution_count": 113
        }
      ]
    },
    {
      "cell_type": "code",
      "source": [
        "%%bash\n",
        "gsutil cp xgb_model.pkl gs://your-bucket-name/models/xgb_model.pkl"
      ],
      "metadata": {
        "id": "cZtSVgOuOBcU"
      },
      "id": "cZtSVgOuOBcU",
      "execution_count": null,
      "outputs": []
    }
  ],
  "metadata": {
    "kernelspec": {
      "display_name": "Python 3",
      "language": "python",
      "name": "python3"
    },
    "language_info": {
      "codemirror_mode": {
        "name": "ipython",
        "version": 3
      },
      "file_extension": ".py",
      "mimetype": "text/x-python",
      "name": "python",
      "nbconvert_exporter": "python",
      "pygments_lexer": "ipython3",
      "version": "3.10.10"
    },
    "colab": {
      "provenance": [],
      "name": "insurance_dataset_explore"
    },
    "widgets": {
      "application/vnd.jupyter.widget-state+json": {
        "494685c0367541b089f888aa5a0f816e": {
          "model_module": "@jupyter-widgets/controls",
          "model_name": "HBoxModel",
          "model_module_version": "1.5.0",
          "state": {
            "_dom_classes": [],
            "_model_module": "@jupyter-widgets/controls",
            "_model_module_version": "1.5.0",
            "_model_name": "HBoxModel",
            "_view_count": null,
            "_view_module": "@jupyter-widgets/controls",
            "_view_module_version": "1.5.0",
            "_view_name": "HBoxView",
            "box_style": "",
            "children": [
              "IPY_MODEL_f2d99acdae2b401195ab4d3384eccd77",
              "IPY_MODEL_a3636deb08ba45a083d4ecd538285bb2",
              "IPY_MODEL_b66c5a83059b43c39da2b1fc28f9d560"
            ],
            "layout": "IPY_MODEL_45e74eaa6a984f199d9fd9d5eac34fb0"
          }
        },
        "f2d99acdae2b401195ab4d3384eccd77": {
          "model_module": "@jupyter-widgets/controls",
          "model_name": "HTMLModel",
          "model_module_version": "1.5.0",
          "state": {
            "_dom_classes": [],
            "_model_module": "@jupyter-widgets/controls",
            "_model_module_version": "1.5.0",
            "_model_name": "HTMLModel",
            "_view_count": null,
            "_view_module": "@jupyter-widgets/controls",
            "_view_module_version": "1.5.0",
            "_view_name": "HTMLView",
            "description": "",
            "description_tooltip": null,
            "layout": "IPY_MODEL_4f4ea45703e24208961873bb06571add",
            "placeholder": "​",
            "style": "IPY_MODEL_6f5b9f4c1e4d403791adcdad8cdaaaf0",
            "value": "Summarize dataset: 100%"
          }
        },
        "a3636deb08ba45a083d4ecd538285bb2": {
          "model_module": "@jupyter-widgets/controls",
          "model_name": "FloatProgressModel",
          "model_module_version": "1.5.0",
          "state": {
            "_dom_classes": [],
            "_model_module": "@jupyter-widgets/controls",
            "_model_module_version": "1.5.0",
            "_model_name": "FloatProgressModel",
            "_view_count": null,
            "_view_module": "@jupyter-widgets/controls",
            "_view_module_version": "1.5.0",
            "_view_name": "ProgressView",
            "bar_style": "success",
            "description": "",
            "description_tooltip": null,
            "layout": "IPY_MODEL_ccbcc16e38484317b2e797490a9945bc",
            "max": 5,
            "min": 0,
            "orientation": "horizontal",
            "style": "IPY_MODEL_4a80e8dd29e2452b92f81b01651af148",
            "value": 5
          }
        },
        "b66c5a83059b43c39da2b1fc28f9d560": {
          "model_module": "@jupyter-widgets/controls",
          "model_name": "HTMLModel",
          "model_module_version": "1.5.0",
          "state": {
            "_dom_classes": [],
            "_model_module": "@jupyter-widgets/controls",
            "_model_module_version": "1.5.0",
            "_model_name": "HTMLModel",
            "_view_count": null,
            "_view_module": "@jupyter-widgets/controls",
            "_view_module_version": "1.5.0",
            "_view_name": "HTMLView",
            "description": "",
            "description_tooltip": null,
            "layout": "IPY_MODEL_88498bcee2ea4c99bbd698ce6c3a9e3e",
            "placeholder": "​",
            "style": "IPY_MODEL_4ef432f330be4bf1b23fbf9df2e4e8e9",
            "value": " 128/128 [00:28&lt;00:00,  4.93it/s, Completed]"
          }
        },
        "45e74eaa6a984f199d9fd9d5eac34fb0": {
          "model_module": "@jupyter-widgets/base",
          "model_name": "LayoutModel",
          "model_module_version": "1.2.0",
          "state": {
            "_model_module": "@jupyter-widgets/base",
            "_model_module_version": "1.2.0",
            "_model_name": "LayoutModel",
            "_view_count": null,
            "_view_module": "@jupyter-widgets/base",
            "_view_module_version": "1.2.0",
            "_view_name": "LayoutView",
            "align_content": null,
            "align_items": null,
            "align_self": null,
            "border": null,
            "bottom": null,
            "display": null,
            "flex": null,
            "flex_flow": null,
            "grid_area": null,
            "grid_auto_columns": null,
            "grid_auto_flow": null,
            "grid_auto_rows": null,
            "grid_column": null,
            "grid_gap": null,
            "grid_row": null,
            "grid_template_areas": null,
            "grid_template_columns": null,
            "grid_template_rows": null,
            "height": null,
            "justify_content": null,
            "justify_items": null,
            "left": null,
            "margin": null,
            "max_height": null,
            "max_width": null,
            "min_height": null,
            "min_width": null,
            "object_fit": null,
            "object_position": null,
            "order": null,
            "overflow": null,
            "overflow_x": null,
            "overflow_y": null,
            "padding": null,
            "right": null,
            "top": null,
            "visibility": null,
            "width": null
          }
        },
        "4f4ea45703e24208961873bb06571add": {
          "model_module": "@jupyter-widgets/base",
          "model_name": "LayoutModel",
          "model_module_version": "1.2.0",
          "state": {
            "_model_module": "@jupyter-widgets/base",
            "_model_module_version": "1.2.0",
            "_model_name": "LayoutModel",
            "_view_count": null,
            "_view_module": "@jupyter-widgets/base",
            "_view_module_version": "1.2.0",
            "_view_name": "LayoutView",
            "align_content": null,
            "align_items": null,
            "align_self": null,
            "border": null,
            "bottom": null,
            "display": null,
            "flex": null,
            "flex_flow": null,
            "grid_area": null,
            "grid_auto_columns": null,
            "grid_auto_flow": null,
            "grid_auto_rows": null,
            "grid_column": null,
            "grid_gap": null,
            "grid_row": null,
            "grid_template_areas": null,
            "grid_template_columns": null,
            "grid_template_rows": null,
            "height": null,
            "justify_content": null,
            "justify_items": null,
            "left": null,
            "margin": null,
            "max_height": null,
            "max_width": null,
            "min_height": null,
            "min_width": null,
            "object_fit": null,
            "object_position": null,
            "order": null,
            "overflow": null,
            "overflow_x": null,
            "overflow_y": null,
            "padding": null,
            "right": null,
            "top": null,
            "visibility": null,
            "width": null
          }
        },
        "6f5b9f4c1e4d403791adcdad8cdaaaf0": {
          "model_module": "@jupyter-widgets/controls",
          "model_name": "DescriptionStyleModel",
          "model_module_version": "1.5.0",
          "state": {
            "_model_module": "@jupyter-widgets/controls",
            "_model_module_version": "1.5.0",
            "_model_name": "DescriptionStyleModel",
            "_view_count": null,
            "_view_module": "@jupyter-widgets/base",
            "_view_module_version": "1.2.0",
            "_view_name": "StyleView",
            "description_width": ""
          }
        },
        "ccbcc16e38484317b2e797490a9945bc": {
          "model_module": "@jupyter-widgets/base",
          "model_name": "LayoutModel",
          "model_module_version": "1.2.0",
          "state": {
            "_model_module": "@jupyter-widgets/base",
            "_model_module_version": "1.2.0",
            "_model_name": "LayoutModel",
            "_view_count": null,
            "_view_module": "@jupyter-widgets/base",
            "_view_module_version": "1.2.0",
            "_view_name": "LayoutView",
            "align_content": null,
            "align_items": null,
            "align_self": null,
            "border": null,
            "bottom": null,
            "display": null,
            "flex": null,
            "flex_flow": null,
            "grid_area": null,
            "grid_auto_columns": null,
            "grid_auto_flow": null,
            "grid_auto_rows": null,
            "grid_column": null,
            "grid_gap": null,
            "grid_row": null,
            "grid_template_areas": null,
            "grid_template_columns": null,
            "grid_template_rows": null,
            "height": null,
            "justify_content": null,
            "justify_items": null,
            "left": null,
            "margin": null,
            "max_height": null,
            "max_width": null,
            "min_height": null,
            "min_width": null,
            "object_fit": null,
            "object_position": null,
            "order": null,
            "overflow": null,
            "overflow_x": null,
            "overflow_y": null,
            "padding": null,
            "right": null,
            "top": null,
            "visibility": null,
            "width": null
          }
        },
        "4a80e8dd29e2452b92f81b01651af148": {
          "model_module": "@jupyter-widgets/controls",
          "model_name": "ProgressStyleModel",
          "model_module_version": "1.5.0",
          "state": {
            "_model_module": "@jupyter-widgets/controls",
            "_model_module_version": "1.5.0",
            "_model_name": "ProgressStyleModel",
            "_view_count": null,
            "_view_module": "@jupyter-widgets/base",
            "_view_module_version": "1.2.0",
            "_view_name": "StyleView",
            "bar_color": null,
            "description_width": ""
          }
        },
        "88498bcee2ea4c99bbd698ce6c3a9e3e": {
          "model_module": "@jupyter-widgets/base",
          "model_name": "LayoutModel",
          "model_module_version": "1.2.0",
          "state": {
            "_model_module": "@jupyter-widgets/base",
            "_model_module_version": "1.2.0",
            "_model_name": "LayoutModel",
            "_view_count": null,
            "_view_module": "@jupyter-widgets/base",
            "_view_module_version": "1.2.0",
            "_view_name": "LayoutView",
            "align_content": null,
            "align_items": null,
            "align_self": null,
            "border": null,
            "bottom": null,
            "display": null,
            "flex": null,
            "flex_flow": null,
            "grid_area": null,
            "grid_auto_columns": null,
            "grid_auto_flow": null,
            "grid_auto_rows": null,
            "grid_column": null,
            "grid_gap": null,
            "grid_row": null,
            "grid_template_areas": null,
            "grid_template_columns": null,
            "grid_template_rows": null,
            "height": null,
            "justify_content": null,
            "justify_items": null,
            "left": null,
            "margin": null,
            "max_height": null,
            "max_width": null,
            "min_height": null,
            "min_width": null,
            "object_fit": null,
            "object_position": null,
            "order": null,
            "overflow": null,
            "overflow_x": null,
            "overflow_y": null,
            "padding": null,
            "right": null,
            "top": null,
            "visibility": null,
            "width": null
          }
        },
        "4ef432f330be4bf1b23fbf9df2e4e8e9": {
          "model_module": "@jupyter-widgets/controls",
          "model_name": "DescriptionStyleModel",
          "model_module_version": "1.5.0",
          "state": {
            "_model_module": "@jupyter-widgets/controls",
            "_model_module_version": "1.5.0",
            "_model_name": "DescriptionStyleModel",
            "_view_count": null,
            "_view_module": "@jupyter-widgets/base",
            "_view_module_version": "1.2.0",
            "_view_name": "StyleView",
            "description_width": ""
          }
        },
        "7c838f00c99d4126a9a8c439894d559f": {
          "model_module": "@jupyter-widgets/controls",
          "model_name": "HBoxModel",
          "model_module_version": "1.5.0",
          "state": {
            "_dom_classes": [],
            "_model_module": "@jupyter-widgets/controls",
            "_model_module_version": "1.5.0",
            "_model_name": "HBoxModel",
            "_view_count": null,
            "_view_module": "@jupyter-widgets/controls",
            "_view_module_version": "1.5.0",
            "_view_name": "HBoxView",
            "box_style": "",
            "children": [
              "IPY_MODEL_ed3cf2544ec44714861eebf835795872",
              "IPY_MODEL_06db10f8a3ed45c682542834623144eb",
              "IPY_MODEL_5150416636cf49d2b745fadd9f857b9f"
            ],
            "layout": "IPY_MODEL_6e2105120a444d12bd60dce332afb47c"
          }
        },
        "ed3cf2544ec44714861eebf835795872": {
          "model_module": "@jupyter-widgets/controls",
          "model_name": "HTMLModel",
          "model_module_version": "1.5.0",
          "state": {
            "_dom_classes": [],
            "_model_module": "@jupyter-widgets/controls",
            "_model_module_version": "1.5.0",
            "_model_name": "HTMLModel",
            "_view_count": null,
            "_view_module": "@jupyter-widgets/controls",
            "_view_module_version": "1.5.0",
            "_view_name": "HTMLView",
            "description": "",
            "description_tooltip": null,
            "layout": "IPY_MODEL_d055df0a701f4d148e5b7e58040e8dae",
            "placeholder": "​",
            "style": "IPY_MODEL_86dc9b336e8445b79783e26453601442",
            "value": "Generate report structure: 100%"
          }
        },
        "06db10f8a3ed45c682542834623144eb": {
          "model_module": "@jupyter-widgets/controls",
          "model_name": "FloatProgressModel",
          "model_module_version": "1.5.0",
          "state": {
            "_dom_classes": [],
            "_model_module": "@jupyter-widgets/controls",
            "_model_module_version": "1.5.0",
            "_model_name": "FloatProgressModel",
            "_view_count": null,
            "_view_module": "@jupyter-widgets/controls",
            "_view_module_version": "1.5.0",
            "_view_name": "ProgressView",
            "bar_style": "success",
            "description": "",
            "description_tooltip": null,
            "layout": "IPY_MODEL_88d49b2bce1744778436b89a83751be7",
            "max": 1,
            "min": 0,
            "orientation": "horizontal",
            "style": "IPY_MODEL_eaeb09ab46cf45f5a4c03dc675c2e6bd",
            "value": 1
          }
        },
        "5150416636cf49d2b745fadd9f857b9f": {
          "model_module": "@jupyter-widgets/controls",
          "model_name": "HTMLModel",
          "model_module_version": "1.5.0",
          "state": {
            "_dom_classes": [],
            "_model_module": "@jupyter-widgets/controls",
            "_model_module_version": "1.5.0",
            "_model_name": "HTMLModel",
            "_view_count": null,
            "_view_module": "@jupyter-widgets/controls",
            "_view_module_version": "1.5.0",
            "_view_name": "HTMLView",
            "description": "",
            "description_tooltip": null,
            "layout": "IPY_MODEL_e7e59f36a49c43f9a84f0abc921b00b2",
            "placeholder": "​",
            "style": "IPY_MODEL_c81116015f664206ba45c1df2d716e3b",
            "value": " 1/1 [00:05&lt;00:00,  5.70s/it]"
          }
        },
        "6e2105120a444d12bd60dce332afb47c": {
          "model_module": "@jupyter-widgets/base",
          "model_name": "LayoutModel",
          "model_module_version": "1.2.0",
          "state": {
            "_model_module": "@jupyter-widgets/base",
            "_model_module_version": "1.2.0",
            "_model_name": "LayoutModel",
            "_view_count": null,
            "_view_module": "@jupyter-widgets/base",
            "_view_module_version": "1.2.0",
            "_view_name": "LayoutView",
            "align_content": null,
            "align_items": null,
            "align_self": null,
            "border": null,
            "bottom": null,
            "display": null,
            "flex": null,
            "flex_flow": null,
            "grid_area": null,
            "grid_auto_columns": null,
            "grid_auto_flow": null,
            "grid_auto_rows": null,
            "grid_column": null,
            "grid_gap": null,
            "grid_row": null,
            "grid_template_areas": null,
            "grid_template_columns": null,
            "grid_template_rows": null,
            "height": null,
            "justify_content": null,
            "justify_items": null,
            "left": null,
            "margin": null,
            "max_height": null,
            "max_width": null,
            "min_height": null,
            "min_width": null,
            "object_fit": null,
            "object_position": null,
            "order": null,
            "overflow": null,
            "overflow_x": null,
            "overflow_y": null,
            "padding": null,
            "right": null,
            "top": null,
            "visibility": null,
            "width": null
          }
        },
        "d055df0a701f4d148e5b7e58040e8dae": {
          "model_module": "@jupyter-widgets/base",
          "model_name": "LayoutModel",
          "model_module_version": "1.2.0",
          "state": {
            "_model_module": "@jupyter-widgets/base",
            "_model_module_version": "1.2.0",
            "_model_name": "LayoutModel",
            "_view_count": null,
            "_view_module": "@jupyter-widgets/base",
            "_view_module_version": "1.2.0",
            "_view_name": "LayoutView",
            "align_content": null,
            "align_items": null,
            "align_self": null,
            "border": null,
            "bottom": null,
            "display": null,
            "flex": null,
            "flex_flow": null,
            "grid_area": null,
            "grid_auto_columns": null,
            "grid_auto_flow": null,
            "grid_auto_rows": null,
            "grid_column": null,
            "grid_gap": null,
            "grid_row": null,
            "grid_template_areas": null,
            "grid_template_columns": null,
            "grid_template_rows": null,
            "height": null,
            "justify_content": null,
            "justify_items": null,
            "left": null,
            "margin": null,
            "max_height": null,
            "max_width": null,
            "min_height": null,
            "min_width": null,
            "object_fit": null,
            "object_position": null,
            "order": null,
            "overflow": null,
            "overflow_x": null,
            "overflow_y": null,
            "padding": null,
            "right": null,
            "top": null,
            "visibility": null,
            "width": null
          }
        },
        "86dc9b336e8445b79783e26453601442": {
          "model_module": "@jupyter-widgets/controls",
          "model_name": "DescriptionStyleModel",
          "model_module_version": "1.5.0",
          "state": {
            "_model_module": "@jupyter-widgets/controls",
            "_model_module_version": "1.5.0",
            "_model_name": "DescriptionStyleModel",
            "_view_count": null,
            "_view_module": "@jupyter-widgets/base",
            "_view_module_version": "1.2.0",
            "_view_name": "StyleView",
            "description_width": ""
          }
        },
        "88d49b2bce1744778436b89a83751be7": {
          "model_module": "@jupyter-widgets/base",
          "model_name": "LayoutModel",
          "model_module_version": "1.2.0",
          "state": {
            "_model_module": "@jupyter-widgets/base",
            "_model_module_version": "1.2.0",
            "_model_name": "LayoutModel",
            "_view_count": null,
            "_view_module": "@jupyter-widgets/base",
            "_view_module_version": "1.2.0",
            "_view_name": "LayoutView",
            "align_content": null,
            "align_items": null,
            "align_self": null,
            "border": null,
            "bottom": null,
            "display": null,
            "flex": null,
            "flex_flow": null,
            "grid_area": null,
            "grid_auto_columns": null,
            "grid_auto_flow": null,
            "grid_auto_rows": null,
            "grid_column": null,
            "grid_gap": null,
            "grid_row": null,
            "grid_template_areas": null,
            "grid_template_columns": null,
            "grid_template_rows": null,
            "height": null,
            "justify_content": null,
            "justify_items": null,
            "left": null,
            "margin": null,
            "max_height": null,
            "max_width": null,
            "min_height": null,
            "min_width": null,
            "object_fit": null,
            "object_position": null,
            "order": null,
            "overflow": null,
            "overflow_x": null,
            "overflow_y": null,
            "padding": null,
            "right": null,
            "top": null,
            "visibility": null,
            "width": null
          }
        },
        "eaeb09ab46cf45f5a4c03dc675c2e6bd": {
          "model_module": "@jupyter-widgets/controls",
          "model_name": "ProgressStyleModel",
          "model_module_version": "1.5.0",
          "state": {
            "_model_module": "@jupyter-widgets/controls",
            "_model_module_version": "1.5.0",
            "_model_name": "ProgressStyleModel",
            "_view_count": null,
            "_view_module": "@jupyter-widgets/base",
            "_view_module_version": "1.2.0",
            "_view_name": "StyleView",
            "bar_color": null,
            "description_width": ""
          }
        },
        "e7e59f36a49c43f9a84f0abc921b00b2": {
          "model_module": "@jupyter-widgets/base",
          "model_name": "LayoutModel",
          "model_module_version": "1.2.0",
          "state": {
            "_model_module": "@jupyter-widgets/base",
            "_model_module_version": "1.2.0",
            "_model_name": "LayoutModel",
            "_view_count": null,
            "_view_module": "@jupyter-widgets/base",
            "_view_module_version": "1.2.0",
            "_view_name": "LayoutView",
            "align_content": null,
            "align_items": null,
            "align_self": null,
            "border": null,
            "bottom": null,
            "display": null,
            "flex": null,
            "flex_flow": null,
            "grid_area": null,
            "grid_auto_columns": null,
            "grid_auto_flow": null,
            "grid_auto_rows": null,
            "grid_column": null,
            "grid_gap": null,
            "grid_row": null,
            "grid_template_areas": null,
            "grid_template_columns": null,
            "grid_template_rows": null,
            "height": null,
            "justify_content": null,
            "justify_items": null,
            "left": null,
            "margin": null,
            "max_height": null,
            "max_width": null,
            "min_height": null,
            "min_width": null,
            "object_fit": null,
            "object_position": null,
            "order": null,
            "overflow": null,
            "overflow_x": null,
            "overflow_y": null,
            "padding": null,
            "right": null,
            "top": null,
            "visibility": null,
            "width": null
          }
        },
        "c81116015f664206ba45c1df2d716e3b": {
          "model_module": "@jupyter-widgets/controls",
          "model_name": "DescriptionStyleModel",
          "model_module_version": "1.5.0",
          "state": {
            "_model_module": "@jupyter-widgets/controls",
            "_model_module_version": "1.5.0",
            "_model_name": "DescriptionStyleModel",
            "_view_count": null,
            "_view_module": "@jupyter-widgets/base",
            "_view_module_version": "1.2.0",
            "_view_name": "StyleView",
            "description_width": ""
          }
        },
        "4507930bdbd5428b9080cae4595ee331": {
          "model_module": "@jupyter-widgets/controls",
          "model_name": "HBoxModel",
          "model_module_version": "1.5.0",
          "state": {
            "_dom_classes": [],
            "_model_module": "@jupyter-widgets/controls",
            "_model_module_version": "1.5.0",
            "_model_name": "HBoxModel",
            "_view_count": null,
            "_view_module": "@jupyter-widgets/controls",
            "_view_module_version": "1.5.0",
            "_view_name": "HBoxView",
            "box_style": "",
            "children": [
              "IPY_MODEL_2ea789a77c66451b8460b770d990c975",
              "IPY_MODEL_c25ebe7687d24e91accf9fab6045c1b9",
              "IPY_MODEL_f43c8b2b1eee4e00abb1c87bdf8c8435"
            ],
            "layout": "IPY_MODEL_a986d1dc610540099d9f5f9f1f53964e"
          }
        },
        "2ea789a77c66451b8460b770d990c975": {
          "model_module": "@jupyter-widgets/controls",
          "model_name": "HTMLModel",
          "model_module_version": "1.5.0",
          "state": {
            "_dom_classes": [],
            "_model_module": "@jupyter-widgets/controls",
            "_model_module_version": "1.5.0",
            "_model_name": "HTMLModel",
            "_view_count": null,
            "_view_module": "@jupyter-widgets/controls",
            "_view_module_version": "1.5.0",
            "_view_name": "HTMLView",
            "description": "",
            "description_tooltip": null,
            "layout": "IPY_MODEL_a19b6dc07a37461db8636a41eb3cb69a",
            "placeholder": "​",
            "style": "IPY_MODEL_e9be91b116624f97a56aea4708486747",
            "value": "Render HTML: 100%"
          }
        },
        "c25ebe7687d24e91accf9fab6045c1b9": {
          "model_module": "@jupyter-widgets/controls",
          "model_name": "FloatProgressModel",
          "model_module_version": "1.5.0",
          "state": {
            "_dom_classes": [],
            "_model_module": "@jupyter-widgets/controls",
            "_model_module_version": "1.5.0",
            "_model_name": "FloatProgressModel",
            "_view_count": null,
            "_view_module": "@jupyter-widgets/controls",
            "_view_module_version": "1.5.0",
            "_view_name": "ProgressView",
            "bar_style": "success",
            "description": "",
            "description_tooltip": null,
            "layout": "IPY_MODEL_e4dbdfbf992345448b700854d8e18086",
            "max": 1,
            "min": 0,
            "orientation": "horizontal",
            "style": "IPY_MODEL_e29d281c5bed4a6eb209f2449eb8dc81",
            "value": 1
          }
        },
        "f43c8b2b1eee4e00abb1c87bdf8c8435": {
          "model_module": "@jupyter-widgets/controls",
          "model_name": "HTMLModel",
          "model_module_version": "1.5.0",
          "state": {
            "_dom_classes": [],
            "_model_module": "@jupyter-widgets/controls",
            "_model_module_version": "1.5.0",
            "_model_name": "HTMLModel",
            "_view_count": null,
            "_view_module": "@jupyter-widgets/controls",
            "_view_module_version": "1.5.0",
            "_view_name": "HTMLView",
            "description": "",
            "description_tooltip": null,
            "layout": "IPY_MODEL_81b312e6c2424e3485cd88dbfdac2552",
            "placeholder": "​",
            "style": "IPY_MODEL_109db335a5974ac48b349fd2bb401b29",
            "value": " 1/1 [00:03&lt;00:00,  3.57s/it]"
          }
        },
        "a986d1dc610540099d9f5f9f1f53964e": {
          "model_module": "@jupyter-widgets/base",
          "model_name": "LayoutModel",
          "model_module_version": "1.2.0",
          "state": {
            "_model_module": "@jupyter-widgets/base",
            "_model_module_version": "1.2.0",
            "_model_name": "LayoutModel",
            "_view_count": null,
            "_view_module": "@jupyter-widgets/base",
            "_view_module_version": "1.2.0",
            "_view_name": "LayoutView",
            "align_content": null,
            "align_items": null,
            "align_self": null,
            "border": null,
            "bottom": null,
            "display": null,
            "flex": null,
            "flex_flow": null,
            "grid_area": null,
            "grid_auto_columns": null,
            "grid_auto_flow": null,
            "grid_auto_rows": null,
            "grid_column": null,
            "grid_gap": null,
            "grid_row": null,
            "grid_template_areas": null,
            "grid_template_columns": null,
            "grid_template_rows": null,
            "height": null,
            "justify_content": null,
            "justify_items": null,
            "left": null,
            "margin": null,
            "max_height": null,
            "max_width": null,
            "min_height": null,
            "min_width": null,
            "object_fit": null,
            "object_position": null,
            "order": null,
            "overflow": null,
            "overflow_x": null,
            "overflow_y": null,
            "padding": null,
            "right": null,
            "top": null,
            "visibility": null,
            "width": null
          }
        },
        "a19b6dc07a37461db8636a41eb3cb69a": {
          "model_module": "@jupyter-widgets/base",
          "model_name": "LayoutModel",
          "model_module_version": "1.2.0",
          "state": {
            "_model_module": "@jupyter-widgets/base",
            "_model_module_version": "1.2.0",
            "_model_name": "LayoutModel",
            "_view_count": null,
            "_view_module": "@jupyter-widgets/base",
            "_view_module_version": "1.2.0",
            "_view_name": "LayoutView",
            "align_content": null,
            "align_items": null,
            "align_self": null,
            "border": null,
            "bottom": null,
            "display": null,
            "flex": null,
            "flex_flow": null,
            "grid_area": null,
            "grid_auto_columns": null,
            "grid_auto_flow": null,
            "grid_auto_rows": null,
            "grid_column": null,
            "grid_gap": null,
            "grid_row": null,
            "grid_template_areas": null,
            "grid_template_columns": null,
            "grid_template_rows": null,
            "height": null,
            "justify_content": null,
            "justify_items": null,
            "left": null,
            "margin": null,
            "max_height": null,
            "max_width": null,
            "min_height": null,
            "min_width": null,
            "object_fit": null,
            "object_position": null,
            "order": null,
            "overflow": null,
            "overflow_x": null,
            "overflow_y": null,
            "padding": null,
            "right": null,
            "top": null,
            "visibility": null,
            "width": null
          }
        },
        "e9be91b116624f97a56aea4708486747": {
          "model_module": "@jupyter-widgets/controls",
          "model_name": "DescriptionStyleModel",
          "model_module_version": "1.5.0",
          "state": {
            "_model_module": "@jupyter-widgets/controls",
            "_model_module_version": "1.5.0",
            "_model_name": "DescriptionStyleModel",
            "_view_count": null,
            "_view_module": "@jupyter-widgets/base",
            "_view_module_version": "1.2.0",
            "_view_name": "StyleView",
            "description_width": ""
          }
        },
        "e4dbdfbf992345448b700854d8e18086": {
          "model_module": "@jupyter-widgets/base",
          "model_name": "LayoutModel",
          "model_module_version": "1.2.0",
          "state": {
            "_model_module": "@jupyter-widgets/base",
            "_model_module_version": "1.2.0",
            "_model_name": "LayoutModel",
            "_view_count": null,
            "_view_module": "@jupyter-widgets/base",
            "_view_module_version": "1.2.0",
            "_view_name": "LayoutView",
            "align_content": null,
            "align_items": null,
            "align_self": null,
            "border": null,
            "bottom": null,
            "display": null,
            "flex": null,
            "flex_flow": null,
            "grid_area": null,
            "grid_auto_columns": null,
            "grid_auto_flow": null,
            "grid_auto_rows": null,
            "grid_column": null,
            "grid_gap": null,
            "grid_row": null,
            "grid_template_areas": null,
            "grid_template_columns": null,
            "grid_template_rows": null,
            "height": null,
            "justify_content": null,
            "justify_items": null,
            "left": null,
            "margin": null,
            "max_height": null,
            "max_width": null,
            "min_height": null,
            "min_width": null,
            "object_fit": null,
            "object_position": null,
            "order": null,
            "overflow": null,
            "overflow_x": null,
            "overflow_y": null,
            "padding": null,
            "right": null,
            "top": null,
            "visibility": null,
            "width": null
          }
        },
        "e29d281c5bed4a6eb209f2449eb8dc81": {
          "model_module": "@jupyter-widgets/controls",
          "model_name": "ProgressStyleModel",
          "model_module_version": "1.5.0",
          "state": {
            "_model_module": "@jupyter-widgets/controls",
            "_model_module_version": "1.5.0",
            "_model_name": "ProgressStyleModel",
            "_view_count": null,
            "_view_module": "@jupyter-widgets/base",
            "_view_module_version": "1.2.0",
            "_view_name": "StyleView",
            "bar_color": null,
            "description_width": ""
          }
        },
        "81b312e6c2424e3485cd88dbfdac2552": {
          "model_module": "@jupyter-widgets/base",
          "model_name": "LayoutModel",
          "model_module_version": "1.2.0",
          "state": {
            "_model_module": "@jupyter-widgets/base",
            "_model_module_version": "1.2.0",
            "_model_name": "LayoutModel",
            "_view_count": null,
            "_view_module": "@jupyter-widgets/base",
            "_view_module_version": "1.2.0",
            "_view_name": "LayoutView",
            "align_content": null,
            "align_items": null,
            "align_self": null,
            "border": null,
            "bottom": null,
            "display": null,
            "flex": null,
            "flex_flow": null,
            "grid_area": null,
            "grid_auto_columns": null,
            "grid_auto_flow": null,
            "grid_auto_rows": null,
            "grid_column": null,
            "grid_gap": null,
            "grid_row": null,
            "grid_template_areas": null,
            "grid_template_columns": null,
            "grid_template_rows": null,
            "height": null,
            "justify_content": null,
            "justify_items": null,
            "left": null,
            "margin": null,
            "max_height": null,
            "max_width": null,
            "min_height": null,
            "min_width": null,
            "object_fit": null,
            "object_position": null,
            "order": null,
            "overflow": null,
            "overflow_x": null,
            "overflow_y": null,
            "padding": null,
            "right": null,
            "top": null,
            "visibility": null,
            "width": null
          }
        },
        "109db335a5974ac48b349fd2bb401b29": {
          "model_module": "@jupyter-widgets/controls",
          "model_name": "DescriptionStyleModel",
          "model_module_version": "1.5.0",
          "state": {
            "_model_module": "@jupyter-widgets/controls",
            "_model_module_version": "1.5.0",
            "_model_name": "DescriptionStyleModel",
            "_view_count": null,
            "_view_module": "@jupyter-widgets/base",
            "_view_module_version": "1.2.0",
            "_view_name": "StyleView",
            "description_width": ""
          }
        },
        "a10d29e851764411bdd6b0840290d6aa": {
          "model_module": "@jupyter-widgets/controls",
          "model_name": "HBoxModel",
          "model_module_version": "1.5.0",
          "state": {
            "_dom_classes": [],
            "_model_module": "@jupyter-widgets/controls",
            "_model_module_version": "1.5.0",
            "_model_name": "HBoxModel",
            "_view_count": null,
            "_view_module": "@jupyter-widgets/controls",
            "_view_module_version": "1.5.0",
            "_view_name": "HBoxView",
            "box_style": "",
            "children": [
              "IPY_MODEL_d33da51c4049422a91b9b002fca2d35d",
              "IPY_MODEL_e806c6ad5fc4480ea1c52e1ff764981e",
              "IPY_MODEL_7e339f9852c34467b5854f496f966b7f"
            ],
            "layout": "IPY_MODEL_1f74fb1aa0804ede9dce2820cbb8c1a3"
          }
        },
        "d33da51c4049422a91b9b002fca2d35d": {
          "model_module": "@jupyter-widgets/controls",
          "model_name": "HTMLModel",
          "model_module_version": "1.5.0",
          "state": {
            "_dom_classes": [],
            "_model_module": "@jupyter-widgets/controls",
            "_model_module_version": "1.5.0",
            "_model_name": "HTMLModel",
            "_view_count": null,
            "_view_module": "@jupyter-widgets/controls",
            "_view_module_version": "1.5.0",
            "_view_name": "HTMLView",
            "description": "",
            "description_tooltip": null,
            "layout": "IPY_MODEL_907aa0d3b9f445a29bd686e491a76619",
            "placeholder": "​",
            "style": "IPY_MODEL_93180c33ffa74ad39040fdfbb76f6a53",
            "value": "Export report to file: 100%"
          }
        },
        "e806c6ad5fc4480ea1c52e1ff764981e": {
          "model_module": "@jupyter-widgets/controls",
          "model_name": "FloatProgressModel",
          "model_module_version": "1.5.0",
          "state": {
            "_dom_classes": [],
            "_model_module": "@jupyter-widgets/controls",
            "_model_module_version": "1.5.0",
            "_model_name": "FloatProgressModel",
            "_view_count": null,
            "_view_module": "@jupyter-widgets/controls",
            "_view_module_version": "1.5.0",
            "_view_name": "ProgressView",
            "bar_style": "success",
            "description": "",
            "description_tooltip": null,
            "layout": "IPY_MODEL_f7001d32f7274b1b99653f416022d9cd",
            "max": 1,
            "min": 0,
            "orientation": "horizontal",
            "style": "IPY_MODEL_4e4b18679736477d96be2aee10c0c2b9",
            "value": 1
          }
        },
        "7e339f9852c34467b5854f496f966b7f": {
          "model_module": "@jupyter-widgets/controls",
          "model_name": "HTMLModel",
          "model_module_version": "1.5.0",
          "state": {
            "_dom_classes": [],
            "_model_module": "@jupyter-widgets/controls",
            "_model_module_version": "1.5.0",
            "_model_name": "HTMLModel",
            "_view_count": null,
            "_view_module": "@jupyter-widgets/controls",
            "_view_module_version": "1.5.0",
            "_view_name": "HTMLView",
            "description": "",
            "description_tooltip": null,
            "layout": "IPY_MODEL_82cacd1dd9694c9080fdc37662a6a0c7",
            "placeholder": "​",
            "style": "IPY_MODEL_ae274989ef2143b49a03bcd6f0a45f5b",
            "value": " 1/1 [00:00&lt;00:00, 14.83it/s]"
          }
        },
        "1f74fb1aa0804ede9dce2820cbb8c1a3": {
          "model_module": "@jupyter-widgets/base",
          "model_name": "LayoutModel",
          "model_module_version": "1.2.0",
          "state": {
            "_model_module": "@jupyter-widgets/base",
            "_model_module_version": "1.2.0",
            "_model_name": "LayoutModel",
            "_view_count": null,
            "_view_module": "@jupyter-widgets/base",
            "_view_module_version": "1.2.0",
            "_view_name": "LayoutView",
            "align_content": null,
            "align_items": null,
            "align_self": null,
            "border": null,
            "bottom": null,
            "display": null,
            "flex": null,
            "flex_flow": null,
            "grid_area": null,
            "grid_auto_columns": null,
            "grid_auto_flow": null,
            "grid_auto_rows": null,
            "grid_column": null,
            "grid_gap": null,
            "grid_row": null,
            "grid_template_areas": null,
            "grid_template_columns": null,
            "grid_template_rows": null,
            "height": null,
            "justify_content": null,
            "justify_items": null,
            "left": null,
            "margin": null,
            "max_height": null,
            "max_width": null,
            "min_height": null,
            "min_width": null,
            "object_fit": null,
            "object_position": null,
            "order": null,
            "overflow": null,
            "overflow_x": null,
            "overflow_y": null,
            "padding": null,
            "right": null,
            "top": null,
            "visibility": null,
            "width": null
          }
        },
        "907aa0d3b9f445a29bd686e491a76619": {
          "model_module": "@jupyter-widgets/base",
          "model_name": "LayoutModel",
          "model_module_version": "1.2.0",
          "state": {
            "_model_module": "@jupyter-widgets/base",
            "_model_module_version": "1.2.0",
            "_model_name": "LayoutModel",
            "_view_count": null,
            "_view_module": "@jupyter-widgets/base",
            "_view_module_version": "1.2.0",
            "_view_name": "LayoutView",
            "align_content": null,
            "align_items": null,
            "align_self": null,
            "border": null,
            "bottom": null,
            "display": null,
            "flex": null,
            "flex_flow": null,
            "grid_area": null,
            "grid_auto_columns": null,
            "grid_auto_flow": null,
            "grid_auto_rows": null,
            "grid_column": null,
            "grid_gap": null,
            "grid_row": null,
            "grid_template_areas": null,
            "grid_template_columns": null,
            "grid_template_rows": null,
            "height": null,
            "justify_content": null,
            "justify_items": null,
            "left": null,
            "margin": null,
            "max_height": null,
            "max_width": null,
            "min_height": null,
            "min_width": null,
            "object_fit": null,
            "object_position": null,
            "order": null,
            "overflow": null,
            "overflow_x": null,
            "overflow_y": null,
            "padding": null,
            "right": null,
            "top": null,
            "visibility": null,
            "width": null
          }
        },
        "93180c33ffa74ad39040fdfbb76f6a53": {
          "model_module": "@jupyter-widgets/controls",
          "model_name": "DescriptionStyleModel",
          "model_module_version": "1.5.0",
          "state": {
            "_model_module": "@jupyter-widgets/controls",
            "_model_module_version": "1.5.0",
            "_model_name": "DescriptionStyleModel",
            "_view_count": null,
            "_view_module": "@jupyter-widgets/base",
            "_view_module_version": "1.2.0",
            "_view_name": "StyleView",
            "description_width": ""
          }
        },
        "f7001d32f7274b1b99653f416022d9cd": {
          "model_module": "@jupyter-widgets/base",
          "model_name": "LayoutModel",
          "model_module_version": "1.2.0",
          "state": {
            "_model_module": "@jupyter-widgets/base",
            "_model_module_version": "1.2.0",
            "_model_name": "LayoutModel",
            "_view_count": null,
            "_view_module": "@jupyter-widgets/base",
            "_view_module_version": "1.2.0",
            "_view_name": "LayoutView",
            "align_content": null,
            "align_items": null,
            "align_self": null,
            "border": null,
            "bottom": null,
            "display": null,
            "flex": null,
            "flex_flow": null,
            "grid_area": null,
            "grid_auto_columns": null,
            "grid_auto_flow": null,
            "grid_auto_rows": null,
            "grid_column": null,
            "grid_gap": null,
            "grid_row": null,
            "grid_template_areas": null,
            "grid_template_columns": null,
            "grid_template_rows": null,
            "height": null,
            "justify_content": null,
            "justify_items": null,
            "left": null,
            "margin": null,
            "max_height": null,
            "max_width": null,
            "min_height": null,
            "min_width": null,
            "object_fit": null,
            "object_position": null,
            "order": null,
            "overflow": null,
            "overflow_x": null,
            "overflow_y": null,
            "padding": null,
            "right": null,
            "top": null,
            "visibility": null,
            "width": null
          }
        },
        "4e4b18679736477d96be2aee10c0c2b9": {
          "model_module": "@jupyter-widgets/controls",
          "model_name": "ProgressStyleModel",
          "model_module_version": "1.5.0",
          "state": {
            "_model_module": "@jupyter-widgets/controls",
            "_model_module_version": "1.5.0",
            "_model_name": "ProgressStyleModel",
            "_view_count": null,
            "_view_module": "@jupyter-widgets/base",
            "_view_module_version": "1.2.0",
            "_view_name": "StyleView",
            "bar_color": null,
            "description_width": ""
          }
        },
        "82cacd1dd9694c9080fdc37662a6a0c7": {
          "model_module": "@jupyter-widgets/base",
          "model_name": "LayoutModel",
          "model_module_version": "1.2.0",
          "state": {
            "_model_module": "@jupyter-widgets/base",
            "_model_module_version": "1.2.0",
            "_model_name": "LayoutModel",
            "_view_count": null,
            "_view_module": "@jupyter-widgets/base",
            "_view_module_version": "1.2.0",
            "_view_name": "LayoutView",
            "align_content": null,
            "align_items": null,
            "align_self": null,
            "border": null,
            "bottom": null,
            "display": null,
            "flex": null,
            "flex_flow": null,
            "grid_area": null,
            "grid_auto_columns": null,
            "grid_auto_flow": null,
            "grid_auto_rows": null,
            "grid_column": null,
            "grid_gap": null,
            "grid_row": null,
            "grid_template_areas": null,
            "grid_template_columns": null,
            "grid_template_rows": null,
            "height": null,
            "justify_content": null,
            "justify_items": null,
            "left": null,
            "margin": null,
            "max_height": null,
            "max_width": null,
            "min_height": null,
            "min_width": null,
            "object_fit": null,
            "object_position": null,
            "order": null,
            "overflow": null,
            "overflow_x": null,
            "overflow_y": null,
            "padding": null,
            "right": null,
            "top": null,
            "visibility": null,
            "width": null
          }
        },
        "ae274989ef2143b49a03bcd6f0a45f5b": {
          "model_module": "@jupyter-widgets/controls",
          "model_name": "DescriptionStyleModel",
          "model_module_version": "1.5.0",
          "state": {
            "_model_module": "@jupyter-widgets/controls",
            "_model_module_version": "1.5.0",
            "_model_name": "DescriptionStyleModel",
            "_view_count": null,
            "_view_module": "@jupyter-widgets/base",
            "_view_module_version": "1.2.0",
            "_view_name": "StyleView",
            "description_width": ""
          }
        }
      }
    }
  },
  "nbformat": 4,
  "nbformat_minor": 5
}